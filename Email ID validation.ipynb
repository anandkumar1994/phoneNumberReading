{
 "cells": [
  {
   "cell_type": "code",
   "execution_count": 5,
   "metadata": {},
   "outputs": [
    {
     "name": "stdout",
     "output_type": "stream",
     "text": [
      "peter.mueller@uni-passau.de\n"
     ]
    }
   ],
   "source": [
    "import nltk\n",
    "import re\n",
    "text = \"peter dot mueller @ uni-passau dot de\"\n",
    "string=re.sub('\\(at\\)|at','@',text)\n",
    "string=re.sub('\\(dot\\)|dot','.',string)\n",
    "final=re.sub('[^-\\.@+a-zA-Z]','',string)\n",
    "print(final)"
   ]
  },
  {
   "cell_type": "code",
   "execution_count": null,
   "metadata": {},
   "outputs": [],
   "source": []
  }
 ],
 "metadata": {
  "kernelspec": {
   "display_name": "Python 3",
   "language": "python",
   "name": "python3"
  },
  "language_info": {
   "codemirror_mode": {
    "name": "ipython",
    "version": 3
   },
   "file_extension": ".py",
   "mimetype": "text/x-python",
   "name": "python",
   "nbconvert_exporter": "python",
   "pygments_lexer": "ipython3",
   "version": "3.6.4"
  }
 },
 "nbformat": 4,
 "nbformat_minor": 2
}
